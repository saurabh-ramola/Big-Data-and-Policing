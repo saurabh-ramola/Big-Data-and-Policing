{
 "cells": [
  {
   "cell_type": "code",
   "execution_count": 91,
   "metadata": {},
   "outputs": [],
   "source": [
    "import os\n",
    "import sys\n",
    "from PIL import Image, ExifTags\n",
    "import pprint\n",
    "import requests\n",
    "from collections import defaultdict\n",
    "import glob\n",
    "import numpy as np\n",
    "import matplotlib.pyplot as plt\n",
    "from matplotlib.pyplot import figure\n",
    "import operator\n"
   ]
  },
  {
   "cell_type": "markdown",
   "metadata": {},
   "source": [
    "<h1>1 Part(a)</h1>"
   ]
  },
  {
   "cell_type": "code",
   "execution_count": 4,
   "metadata": {},
   "outputs": [],
   "source": [
    "def func_name(name):\n",
    "    MAC_URL = 'http://macvendors.co/api/%s'\n",
    "    r = requests.get(MAC_URL % name)\n",
    "#     pprint.pprint(r.json())\n",
    "    return (r.json()['result']['company'])"
   ]
  },
  {
   "cell_type": "code",
   "execution_count": 5,
   "metadata": {},
   "outputs": [],
   "source": [
    "company = defaultdict(lambda : 0)\n",
    "company1 = defaultdict(lambda : 0)\n",
    "\n",
    "\n",
    "directory = './Isis Admin\\'s Hacked Phones/'\n",
    "\n",
    "\n",
    "for file in os.listdir(directory):\n",
    "    first_level = directory + file\n",
    "    for files in os.listdir(first_level):\n",
    "        second_level = first_level + \"/\" + files\n",
    "        for f in os.listdir(second_level):\n",
    "            if f.endswith(\"Snapshots\") or f.endswith(\"snapshots\") or f.endswith(\"snapshot\") or f.endswith(\"Snapshot\") :\n",
    "                third_level = second_level+\"/\" + f\n",
    "                for filess in os.listdir(third_level):\n",
    "                    try:\n",
    "                        img = Image.open(os.path.join(third_level, filess))\n",
    "                        exif = { ExifTags.TAGS[k]: v for k, v in img._getexif().items() if k in ExifTags.TAGS }\n",
    "                        if(exif[\"Make\"]):\n",
    "                            company[exif[\"Make\"].rstrip('\\x00').lower()] += 1\n",
    "                        else:\n",
    "                            company[\"Unknown\"] += 1\n",
    "                        break\n",
    "                    except:\n",
    "                        \n",
    "                        f = open(os.path.join(second_level,\"ifconfig.txt\"))\n",
    "                        name = func_name((\" \").join(f.readlines()).split(\"Name         : wlan0 - wlan0\")[1].split(\"IPv4 Address\")[0].split(\": \")[1].strip(\"\\n \"))\n",
    "                        company[name.split(\" (\")[0].lower()] += 1\n",
    "\n",
    "                        break\n",
    "                break\n",
    "            \n",
    "            elif f == \"ifconfig.txt\" or f == \"ifconfig\":\n",
    "                fo = open(os.path.join(second_level, f))\n",
    "                \n",
    "\n",
    "                try:\n",
    "                    var = (\" \").join(fo.readlines()).split(\"Name         : wlan0 - wlan0\")[1].split(\"IPv4 Address\")[0].split(\": \")[1].strip(\"\\n \")\n",
    "                    if len(var) == 17:\n",
    "                        name = func_name(var)\n",
    "                        company[name.split(\" (\")[0].lower()] += 1\n",
    "                    elif len(var) == 55:\n",
    "                        name = func_name(var.split(\"\\n\")[0])\n",
    "                        company[name.split(\" (\")[0].lower()] += 1\n",
    "                except:\n",
    "                    pass\n",
    "\n",
    "\n",
    "for i in company:\n",
    "    if len(i.split(\" \")) > 1:\n",
    "        company1[i.split()[0]]+= company[i]\n",
    "    else:\n",
    "        company1[i] = company[i]\n"
   ]
  },
  {
   "cell_type": "code",
   "execution_count": 6,
   "metadata": {},
   "outputs": [
    {
     "data": {
      "image/png": "[encoded data removed]",
      "text/plain": [
       "<Figure size 864x432 with 1 Axes>"
      ]
     },
     "metadata": {},
     "output_type": "display_data"
    }
   ],
   "source": [
    "figure(figsize=(12,6))\n",
    "plt.bar(company1.keys(), company1.values(), align='center',color=['black', 'red', 'green', 'blue', 'cyan'],edgecolor='black')\n",
    "plt.title('Most popular smartphones among operatives')\n",
    "plt.xlabel(\"Smartphones\")\n",
    "plt.ylabel(\"Number of ISIS operatives having that smartphone\")\n",
    "plt.show()\n"
   ]
  },
  {
   "cell_type": "markdown",
   "metadata": {},
   "source": [
    "<h1>1 Part(b)</h1>"
   ]
  },
  {
   "cell_type": "code",
   "execution_count": 107,
   "metadata": {},
   "outputs": [],
   "source": [
    "log_list = []\n",
    "outgoing = defaultdict(lambda: 0)\n",
    "incoming = defaultdict(lambda: 0)\n",
    "# num_dict\n",
    "for root, dirs, files in os.walk(directory):\n",
    "    for file in files:\n",
    "        if file.endswith(\".txt\"):\n",
    "            name = os.path.join(root,file)\n",
    "            if name[-17:] == '/Calllog Dump.txt':\n",
    "                log_list.append(name)\n",
    "\n",
    "                \n",
    "for files in log_list:\n",
    "    f = open(files)\n",
    "    var = ''.join(f.readlines()).split(\"\\n\")\n",
    "    for idx, val in enumerate(var):\n",
    "        if val.startswith(\"Number\"):\n",
    "            if var[idx+3].strip(\"\\n\").split(\": \")[1].lower() == 'outgoing':\n",
    "                country = f.name.split(\"/\")[2].split(\" \")[0]\n",
    "                index = (var[idx].strip(\"\\n\").split(\": \")[1],var[idx+1].strip(\"\\n\").split(\": \")[1].lower(),country)\n",
    "                outgoing[index] += 1\n",
    "            if var[idx+3].strip(\"\\n\").split(\": \")[1].lower() == 'incoming':\n",
    "                country = f.name.split(\"/\")[2].split(\" \")[0]\n",
    "                index = (var[idx].strip(\"\\n\").split(\": \")[1],var[idx+1].strip(\"\\n\").split(\": \")[1].lower(),country)\n",
    "                incoming[index] += 1\n",
    "\n"
   ]
  },
  {
   "cell_type": "code",
   "execution_count": 108,
   "metadata": {},
   "outputs": [
    {
     "name": "stdout",
     "output_type": "stream",
     "text": [
      "Top 5 most popular outgoing numbers are :\n",
      "Number : 7006348792 Name : masroor Country : India ==> 189\n",
      "Number : 123 Name : null Country : India ==> 215\n",
      "Number : +917780809871 Name : adal bhat Country : India ==> 237\n",
      "Number : 0933637039 Name : جدي ندى Country : Turkey ==> 250\n",
      "Number : 00966550326715 Name : null Country : Yemen ==> 264\n"
     ]
    }
   ],
   "source": [
    "arr = sorted(outgoing.items(), key=operator.itemgetter(1))[-5:]\n",
    "arr1 = sorted(incoming.items(), key=operator.itemgetter(1))[-5:]\n",
    "\n",
    "print(\"Top 5 most popular outgoing numbers are :\")\n",
    "for key,value in arr:\n",
    "    \n",
    "    print(\"Number : \" + key[0] + \" Name : \" + key[1] + \" Country : \" + key[2] + \" ==> \" + str(value))\n",
    "    \n",
    "\n"
   ]
  },
  {
   "cell_type": "markdown",
   "metadata": {},
   "source": [
    "<h1>1 Part(c)</h1>"
   ]
  },
  {
   "cell_type": "code",
   "execution_count": 109,
   "metadata": {},
   "outputs": [
    {
     "name": "stdout",
     "output_type": "stream",
     "text": [
      "Top 5 most popular incoming numbers are :\n",
      "Number : +917780809871 Name : adal bhat Country : India ==> 104\n",
      "Number : +963997421993 Name : هتلر Country : Syria ==> 130\n",
      "Number : +917780848045 Name : musaib dhurani Country : India ==> 159\n",
      "Number : MTN Name : null Country : Syria ==> 229\n",
      "Number : Syriatel Name : null Country : Syria ==> 367\n"
     ]
    }
   ],
   "source": [
    "print(\"Top 5 most popular incoming numbers are :\")\n",
    "for key,value in arr1:\n",
    "    \n",
    "    print(\"Number : \" + key[0] + \" Name : \" + key[1] + \" Country : \" + key[2] + \" ==> \" + str(value))\n",
    "    "
   ]
  },
  {
   "cell_type": "code",
   "execution_count": null,
   "metadata": {},
   "outputs": [],
   "source": []
  }
 ],
 "metadata": {
  "kernelspec": {
   "display_name": "Python 3",
   "language": "python",
   "name": "python3"
  },
  "language_info": {
   "codemirror_mode": {
    "name": "ipython",
    "version": 3
   },
   "file_extension": ".py",
   "mimetype": "text/x-python",
   "name": "python",
   "nbconvert_exporter": "python",
   "pygments_lexer": "ipython3",
   "version": "3.6.5"
  }
 },
 "nbformat": 4,
 "nbformat_minor": 2
}
